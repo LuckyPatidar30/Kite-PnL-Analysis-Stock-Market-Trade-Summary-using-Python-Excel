{
 "cells": [
  {
   "cell_type": "code",
   "execution_count": 5,
   "id": "7890dc76-7d26-44c8-8a71-23a02e43e4e2",
   "metadata": {},
   "outputs": [
    {
     "name": "stdout",
     "output_type": "stream",
     "text": [
      "Excel summary file generated successfully!\n"
     ]
    }
   ],
   "source": [
    "import pandas as pd\n",
    "\n",
    "df = pd.read_csv(\"orders.csv\")\n",
    "\n",
    "df = df[(df['Product'] == 'MIS') & (df['Status'] == 'COMPLETE')].copy()\n",
    "\n",
    "df['Qty.'] = df['Qty.'].str.split('/').str[0].astype(int)\n",
    "\n",
    "df['Turnover'] = df['Qty.'] * df['Avg. price']\n",
    "\n",
    "\n",
    "df['Brokerage'] = df.apply(lambda row: min(row['Turnover'] * 0.0003, 20), axis=1)\n",
    "\n",
    "\n",
    "df['STT/CTT'] = df.apply(lambda row: row['Turnover'] * 0.00025 if row['Type'] == 'SELL' else 0, axis=1)\n",
    "\n",
    "\n",
    "df['ETC'] = df['Turnover'] * 0.0000375\n",
    "\n",
    "\n",
    "df['SEBI'] = df['Turnover'] * 0.0000001\n",
    "\n",
    "\n",
    "df['GST'] = (df['Brokerage'] + df['ETC']) * 0.18\n",
    "\n",
    "\n",
    "df['Stamp Charges'] = df.apply(lambda row: min(row['Turnover'] * 0.00003, 300) if row['Type'] == 'BUY' else 0, axis=1)\n",
    "\n",
    "\n",
    "df['Total Charges'] = df[['Brokerage', 'STT/CTT', 'ETC', 'SEBI', 'GST', 'Stamp Charges']].sum(axis=1)\n",
    "\n",
    "\n",
    "df_summary = df.groupby(['Instrument', 'Type']).agg({\n",
    "    'Qty.': 'sum',\n",
    "    'Avg. price': 'mean',\n",
    "    'Turnover': 'sum',\n",
    "    'Brokerage': 'sum',\n",
    "    'STT/CTT': 'sum',\n",
    "    'ETC': 'sum',\n",
    "    'SEBI': 'sum',\n",
    "    'GST': 'sum',\n",
    "    'Stamp Charges': 'sum',\n",
    "    'Total Charges': 'sum'\n",
    "}).reset_index()\n",
    "\n",
    "\n",
    "df_overall = df.groupby(['Instrument']).agg({\n",
    "    'Turnover': 'sum',\n",
    "    'Total Charges': 'sum'\n",
    "}).reset_index()\n",
    "df_overall['Gross PnL'] = df.groupby(['Instrument'])['Turnover'].sum().values\n",
    "df_overall['Net PnL'] = df_overall['Gross PnL'] - df_overall['Total Charges']\n",
    "df_overall['% Charges on Gross PnL'] = (df_overall['Total Charges'] / df_overall['Gross PnL']) * 100\n",
    "\n",
    "\n",
    "with pd.ExcelWriter(\"trade_summary.xlsx\") as writer:\n",
    "    df.to_excel(writer, sheet_name=\"Individual Trades\", index=False)\n",
    "    df_summary.to_excel(writer, sheet_name=\"Stock Type Analysis\", index=False)\n",
    "    df_overall.to_excel(writer, sheet_name=\"Overall Summary\", index=False)\n",
    "\n",
    "print(\"Excel summary file generated successfully!\")\n"
   ]
  },
  {
   "cell_type": "code",
   "execution_count": null,
   "id": "ae559c42-a171-4af2-9945-2a609d1ccf80",
   "metadata": {},
   "outputs": [],
   "source": []
  },
  {
   "cell_type": "code",
   "execution_count": null,
   "id": "2d6ea94b-13c5-40c4-a9f3-856e3094ce31",
   "metadata": {},
   "outputs": [],
   "source": []
  },
  {
   "cell_type": "code",
   "execution_count": null,
   "id": "1e00fbc7-9d71-495d-b428-a8548ec8154c",
   "metadata": {},
   "outputs": [],
   "source": []
  },
  {
   "cell_type": "code",
   "execution_count": null,
   "id": "20374eef-8b6c-4c5a-98e5-76e0bd4bfc88",
   "metadata": {},
   "outputs": [],
   "source": []
  },
  {
   "cell_type": "code",
   "execution_count": null,
   "id": "589e750d-76b5-4189-b97b-96f31b6b963a",
   "metadata": {},
   "outputs": [],
   "source": []
  },
  {
   "cell_type": "code",
   "execution_count": null,
   "id": "c5b7759f-464d-4a50-981a-4a2d8af98d3f",
   "metadata": {},
   "outputs": [],
   "source": []
  },
  {
   "cell_type": "code",
   "execution_count": null,
   "id": "407f0c31-b0c7-49e8-aca6-4b11af5c5ee0",
   "metadata": {},
   "outputs": [],
   "source": []
  },
  {
   "cell_type": "code",
   "execution_count": null,
   "id": "8eec1f16-bfe0-4891-b3a4-5ba61170d0db",
   "metadata": {},
   "outputs": [],
   "source": []
  },
  {
   "cell_type": "code",
   "execution_count": null,
   "id": "5f182c0e-12e5-4d4c-bc72-b00cd7854639",
   "metadata": {},
   "outputs": [],
   "source": []
  },
  {
   "cell_type": "code",
   "execution_count": null,
   "id": "e7b62dc3-8897-4ba0-bc43-0b47f9db4c43",
   "metadata": {},
   "outputs": [],
   "source": []
  },
  {
   "cell_type": "code",
   "execution_count": null,
   "id": "a016dfcd-9af5-4b02-aa09-896f45591976",
   "metadata": {},
   "outputs": [],
   "source": []
  },
  {
   "cell_type": "code",
   "execution_count": null,
   "id": "baf36287-7a7b-4e6e-8809-a08c8494b1fa",
   "metadata": {},
   "outputs": [],
   "source": []
  },
  {
   "cell_type": "code",
   "execution_count": null,
   "id": "ea932325-ccd7-4979-a7eb-3c7806fafd3d",
   "metadata": {},
   "outputs": [],
   "source": []
  },
  {
   "cell_type": "code",
   "execution_count": null,
   "id": "793e0264-733c-4918-bbd4-304e81fc2393",
   "metadata": {},
   "outputs": [],
   "source": []
  },
  {
   "cell_type": "code",
   "execution_count": null,
   "id": "4a0ec688-2d84-4bb9-844e-117760a2d108",
   "metadata": {},
   "outputs": [],
   "source": []
  },
  {
   "cell_type": "code",
   "execution_count": null,
   "id": "8c4eda55-bdc9-49e8-b0c2-99bac0cdfb21",
   "metadata": {},
   "outputs": [],
   "source": []
  },
  {
   "cell_type": "code",
   "execution_count": null,
   "id": "32f085eb-da3c-443f-9153-7e21d303b89e",
   "metadata": {},
   "outputs": [],
   "source": []
  }
 ],
 "metadata": {
  "kernelspec": {
   "display_name": "Python 3 (ipykernel)",
   "language": "python",
   "name": "python3"
  },
  "language_info": {
   "codemirror_mode": {
    "name": "ipython",
    "version": 3
   },
   "file_extension": ".py",
   "mimetype": "text/x-python",
   "name": "python",
   "nbconvert_exporter": "python",
   "pygments_lexer": "ipython3",
   "version": "3.12.7"
  }
 },
 "nbformat": 4,
 "nbformat_minor": 5
}
